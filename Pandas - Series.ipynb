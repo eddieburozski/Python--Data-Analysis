{
 "cells": [
  {
   "cell_type": "markdown",
   "id": "8003fa66",
   "metadata": {},
   "source": [
    "# Pandas Notes"
   ]
  },
  {
   "cell_type": "markdown",
   "id": "572e0c6e",
   "metadata": {},
   "source": [
    "## A series is a data structure in Pandas that holds an array of information as well as a named index\n",
    "## The named index is what differentiates it from a NumPy array\n",
    "### Formal Definition: One dimensional ndarray with axis labels"
   ]
  },
  {
   "cell_type": "code",
   "execution_count": 1,
   "id": "056e99fc",
   "metadata": {},
   "outputs": [],
   "source": [
    "import numpy as np\n",
    "import pandas as pd"
   ]
  },
  {
   "cell_type": "code",
   "execution_count": 2,
   "id": "1b73e676",
   "metadata": {},
   "outputs": [],
   "source": [
    "myindex = ['USA','Canada', 'Mexico']"
   ]
  },
  {
   "cell_type": "code",
   "execution_count": 3,
   "id": "28071388",
   "metadata": {},
   "outputs": [],
   "source": [
    "mydata = [1776, 1867, 1821]\n"
   ]
  },
  {
   "cell_type": "code",
   "execution_count": 4,
   "id": "26dc2b16",
   "metadata": {},
   "outputs": [],
   "source": [
    "myser = pd.Series(index = myindex, data = mydata)"
   ]
  },
  {
   "cell_type": "code",
   "execution_count": 5,
   "id": "dbcf9af4",
   "metadata": {},
   "outputs": [
    {
     "data": {
      "text/plain": [
       "USA       1776\n",
       "Canada    1867\n",
       "Mexico    1821\n",
       "dtype: int64"
      ]
     },
     "execution_count": 5,
     "metadata": {},
     "output_type": "execute_result"
    }
   ],
   "source": [
    "myser"
   ]
  },
  {
   "cell_type": "code",
   "execution_count": 6,
   "id": "428ee6f7",
   "metadata": {},
   "outputs": [
    {
     "data": {
      "text/plain": [
       "1776"
      ]
     },
     "execution_count": 6,
     "metadata": {},
     "output_type": "execute_result"
    }
   ],
   "source": [
    "myser[0]"
   ]
  },
  {
   "cell_type": "code",
   "execution_count": 7,
   "id": "f7b2268d",
   "metadata": {},
   "outputs": [
    {
     "data": {
      "text/plain": [
       "1776"
      ]
     },
     "execution_count": 7,
     "metadata": {},
     "output_type": "execute_result"
    }
   ],
   "source": [
    "myser['USA']"
   ]
  },
  {
   "cell_type": "code",
   "execution_count": 8,
   "id": "b1dfdfd9",
   "metadata": {},
   "outputs": [],
   "source": [
    "ages = {'Sam':5, 'Frank':10, 'Spike':7}"
   ]
  },
  {
   "cell_type": "code",
   "execution_count": 9,
   "id": "bc9d7937",
   "metadata": {},
   "outputs": [
    {
     "data": {
      "text/plain": [
       "Sam       5\n",
       "Frank    10\n",
       "Spike     7\n",
       "dtype: int64"
      ]
     },
     "execution_count": 9,
     "metadata": {},
     "output_type": "execute_result"
    }
   ],
   "source": [
    "pd.Series(ages)"
   ]
  },
  {
   "cell_type": "code",
   "execution_count": 11,
   "id": "2b3c29cb",
   "metadata": {},
   "outputs": [],
   "source": [
    "# TASK: Use pandas to grab the expenses paid by Bob.\n",
    "expenses = pd.Series({'Andrew':200,'Bob':150,'Claire':450})\n",
    "\n",
    "bob_expense = expenses['Bob']"
   ]
  },
  {
   "cell_type": "markdown",
   "id": "4460d22a",
   "metadata": {},
   "source": [
    "## Series - Key Ideas"
   ]
  },
  {
   "cell_type": "code",
   "execution_count": 12,
   "id": "99d444f2",
   "metadata": {},
   "outputs": [],
   "source": [
    "q1 = {'Japan': 80, 'China': 450, 'India': 200, 'USA': 250}\n",
    "q2 = {'Brazil': 100,'China': 500, 'India': 210,'USA': 260}"
   ]
  },
  {
   "cell_type": "code",
   "execution_count": 13,
   "id": "245dc829",
   "metadata": {},
   "outputs": [],
   "source": [
    "sales_q1 = pd.Series(q1)\n",
    "sales_q2 = pd.Series(q2)"
   ]
  },
  {
   "cell_type": "code",
   "execution_count": 14,
   "id": "02a33270",
   "metadata": {},
   "outputs": [
    {
     "data": {
      "text/plain": [
       "Japan     80\n",
       "China    450\n",
       "India    200\n",
       "USA      250\n",
       "dtype: int64"
      ]
     },
     "execution_count": 14,
     "metadata": {},
     "output_type": "execute_result"
    }
   ],
   "source": [
    "sales_q1"
   ]
  },
  {
   "cell_type": "code",
   "execution_count": 16,
   "id": "6fcece3e",
   "metadata": {},
   "outputs": [],
   "source": [
    "sales_q1['Japan'] = sales_q1[0]  # Note string keys are case sensitive"
   ]
  },
  {
   "cell_type": "code",
   "execution_count": 17,
   "id": "c3d1f9d0",
   "metadata": {},
   "outputs": [
    {
     "data": {
      "text/plain": [
       "Index(['Japan', 'China', 'India', 'USA'], dtype='object')"
      ]
     },
     "execution_count": 17,
     "metadata": {},
     "output_type": "execute_result"
    }
   ],
   "source": [
    "sales_q1.keys()"
   ]
  },
  {
   "cell_type": "code",
   "execution_count": 18,
   "id": "a4ffd786",
   "metadata": {},
   "outputs": [
    {
     "data": {
      "text/plain": [
       "Japan    160\n",
       "China    900\n",
       "India    400\n",
       "USA      500\n",
       "dtype: int64"
      ]
     },
     "execution_count": 18,
     "metadata": {},
     "output_type": "execute_result"
    }
   ],
   "source": [
    "sales_q1 * 2   # can broadcast operations"
   ]
  },
  {
   "cell_type": "code",
   "execution_count": 19,
   "id": "429c0678",
   "metadata": {},
   "outputs": [
    {
     "data": {
      "text/plain": [
       "Brazil      NaN\n",
       "China     950.0\n",
       "India     410.0\n",
       "Japan       NaN\n",
       "USA       510.0\n",
       "dtype: float64"
      ]
     },
     "execution_count": 19,
     "metadata": {},
     "output_type": "execute_result"
    }
   ],
   "source": [
    "sales_q1 + sales_q2"
   ]
  },
  {
   "cell_type": "code",
   "execution_count": 22,
   "id": "668fedc9",
   "metadata": {},
   "outputs": [],
   "source": [
    "first_half = sales_q1.add(sales_q2, fill_value = 0)"
   ]
  },
  {
   "cell_type": "code",
   "execution_count": 23,
   "id": "660387ec",
   "metadata": {},
   "outputs": [
    {
     "data": {
      "text/plain": [
       "dtype('float64')"
      ]
     },
     "execution_count": 23,
     "metadata": {},
     "output_type": "execute_result"
    }
   ],
   "source": [
    "first_half.dtype"
   ]
  },
  {
   "cell_type": "code",
   "execution_count": null,
   "id": "5a9529a2",
   "metadata": {},
   "outputs": [],
   "source": []
  }
 ],
 "metadata": {
  "kernelspec": {
   "display_name": "Python 3 (ipykernel)",
   "language": "python",
   "name": "python3"
  },
  "language_info": {
   "codemirror_mode": {
    "name": "ipython",
    "version": 3
   },
   "file_extension": ".py",
   "mimetype": "text/x-python",
   "name": "python",
   "nbconvert_exporter": "python",
   "pygments_lexer": "ipython3",
   "version": "3.9.13"
  }
 },
 "nbformat": 4,
 "nbformat_minor": 5
}
