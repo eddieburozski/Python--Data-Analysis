{
 "cells": [
  {
   "cell_type": "markdown",
   "id": "3ebcc2bd",
   "metadata": {},
   "source": [
    "# CSV Files\n",
    "\n",
    "#### Note: Need to know exact directory location and correct file name\n",
    "#### May need passwords or permissions for certain data inputs (SQL database)"
   ]
  },
  {
   "cell_type": "code",
   "execution_count": 4,
   "id": "b18c4c4e",
   "metadata": {},
   "outputs": [],
   "source": [
    "import pandas as pd\n",
    "import numpy as np"
   ]
  },
  {
   "cell_type": "code",
   "execution_count": 9,
   "id": "22baa803",
   "metadata": {},
   "outputs": [],
   "source": [
    "df = pd.read_csv(\"C:\\\\Users\\\\Eddie\\\\Downloads\\\\UNZIP_FOR_NOTEBOOKS_FINAL\\\\03-Pandas\\\\example.csv\")"
   ]
  },
  {
   "cell_type": "code",
   "execution_count": 10,
   "id": "64e7bc86",
   "metadata": {},
   "outputs": [
    {
     "data": {
      "text/html": [
       "<div>\n",
       "<style scoped>\n",
       "    .dataframe tbody tr th:only-of-type {\n",
       "        vertical-align: middle;\n",
       "    }\n",
       "\n",
       "    .dataframe tbody tr th {\n",
       "        vertical-align: top;\n",
       "    }\n",
       "\n",
       "    .dataframe thead th {\n",
       "        text-align: right;\n",
       "    }\n",
       "</style>\n",
       "<table border=\"1\" class=\"dataframe\">\n",
       "  <thead>\n",
       "    <tr style=\"text-align: right;\">\n",
       "      <th></th>\n",
       "      <th>a</th>\n",
       "      <th>b</th>\n",
       "      <th>c</th>\n",
       "      <th>d</th>\n",
       "    </tr>\n",
       "  </thead>\n",
       "  <tbody>\n",
       "    <tr>\n",
       "      <th>0</th>\n",
       "      <td>0</td>\n",
       "      <td>1</td>\n",
       "      <td>2</td>\n",
       "      <td>3</td>\n",
       "    </tr>\n",
       "    <tr>\n",
       "      <th>1</th>\n",
       "      <td>4</td>\n",
       "      <td>5</td>\n",
       "      <td>6</td>\n",
       "      <td>7</td>\n",
       "    </tr>\n",
       "    <tr>\n",
       "      <th>2</th>\n",
       "      <td>8</td>\n",
       "      <td>9</td>\n",
       "      <td>10</td>\n",
       "      <td>11</td>\n",
       "    </tr>\n",
       "    <tr>\n",
       "      <th>3</th>\n",
       "      <td>12</td>\n",
       "      <td>13</td>\n",
       "      <td>14</td>\n",
       "      <td>15</td>\n",
       "    </tr>\n",
       "  </tbody>\n",
       "</table>\n",
       "</div>"
      ],
      "text/plain": [
       "    a   b   c   d\n",
       "0   0   1   2   3\n",
       "1   4   5   6   7\n",
       "2   8   9  10  11\n",
       "3  12  13  14  15"
      ]
     },
     "execution_count": 10,
     "metadata": {},
     "output_type": "execute_result"
    }
   ],
   "source": [
    "df"
   ]
  },
  {
   "cell_type": "code",
   "execution_count": 11,
   "id": "59dae8de",
   "metadata": {},
   "outputs": [],
   "source": [
    "df.to_csv(\"C:\\\\Users\\\\Eddie\\\\Downloads\\\\UNZIP_FOR_NOTEBOOKS_FINAL\\\\03-Pandas\\\\newfile.csv\", index = False)"
   ]
  },
  {
   "cell_type": "code",
   "execution_count": 12,
   "id": "e4e47a26",
   "metadata": {},
   "outputs": [],
   "source": [
    "new = pd.read_csv(\"C:\\\\Users\\\\Eddie\\\\Downloads\\\\UNZIP_FOR_NOTEBOOKS_FINAL\\\\03-Pandas\\\\newfile.csv\")"
   ]
  },
  {
   "cell_type": "code",
   "execution_count": 13,
   "id": "f96c71dd",
   "metadata": {},
   "outputs": [
    {
     "data": {
      "text/html": [
       "<div>\n",
       "<style scoped>\n",
       "    .dataframe tbody tr th:only-of-type {\n",
       "        vertical-align: middle;\n",
       "    }\n",
       "\n",
       "    .dataframe tbody tr th {\n",
       "        vertical-align: top;\n",
       "    }\n",
       "\n",
       "    .dataframe thead th {\n",
       "        text-align: right;\n",
       "    }\n",
       "</style>\n",
       "<table border=\"1\" class=\"dataframe\">\n",
       "  <thead>\n",
       "    <tr style=\"text-align: right;\">\n",
       "      <th></th>\n",
       "      <th>a</th>\n",
       "      <th>b</th>\n",
       "      <th>c</th>\n",
       "      <th>d</th>\n",
       "    </tr>\n",
       "  </thead>\n",
       "  <tbody>\n",
       "    <tr>\n",
       "      <th>0</th>\n",
       "      <td>0</td>\n",
       "      <td>1</td>\n",
       "      <td>2</td>\n",
       "      <td>3</td>\n",
       "    </tr>\n",
       "    <tr>\n",
       "      <th>1</th>\n",
       "      <td>4</td>\n",
       "      <td>5</td>\n",
       "      <td>6</td>\n",
       "      <td>7</td>\n",
       "    </tr>\n",
       "    <tr>\n",
       "      <th>2</th>\n",
       "      <td>8</td>\n",
       "      <td>9</td>\n",
       "      <td>10</td>\n",
       "      <td>11</td>\n",
       "    </tr>\n",
       "    <tr>\n",
       "      <th>3</th>\n",
       "      <td>12</td>\n",
       "      <td>13</td>\n",
       "      <td>14</td>\n",
       "      <td>15</td>\n",
       "    </tr>\n",
       "  </tbody>\n",
       "</table>\n",
       "</div>"
      ],
      "text/plain": [
       "    a   b   c   d\n",
       "0   0   1   2   3\n",
       "1   4   5   6   7\n",
       "2   8   9  10  11\n",
       "3  12  13  14  15"
      ]
     },
     "execution_count": 13,
     "metadata": {},
     "output_type": "execute_result"
    }
   ],
   "source": [
    "new"
   ]
  },
  {
   "cell_type": "markdown",
   "id": "03624e24",
   "metadata": {},
   "source": [
    "## HTML"
   ]
  },
  {
   "cell_type": "code",
   "execution_count": 15,
   "id": "21e550e6",
   "metadata": {},
   "outputs": [],
   "source": [
    "url = 'https://en.wikipedia.org/wiki/World_population'"
   ]
  },
  {
   "cell_type": "code",
   "execution_count": 16,
   "id": "c0599817",
   "metadata": {},
   "outputs": [],
   "source": [
    "tables = pd.read_html(url)"
   ]
  },
  {
   "cell_type": "code",
   "execution_count": 17,
   "id": "76606701",
   "metadata": {},
   "outputs": [
    {
     "data": {
      "text/plain": [
       "25"
      ]
     },
     "execution_count": 17,
     "metadata": {},
     "output_type": "execute_result"
    }
   ],
   "source": [
    "len(tables)"
   ]
  },
  {
   "cell_type": "code",
   "execution_count": 19,
   "id": "aa3141ce",
   "metadata": {},
   "outputs": [
    {
     "data": {
      "text/html": [
       "<div>\n",
       "<style scoped>\n",
       "    .dataframe tbody tr th:only-of-type {\n",
       "        vertical-align: middle;\n",
       "    }\n",
       "\n",
       "    .dataframe tbody tr th {\n",
       "        vertical-align: top;\n",
       "    }\n",
       "\n",
       "    .dataframe thead tr th {\n",
       "        text-align: left;\n",
       "    }\n",
       "</style>\n",
       "<table border=\"1\" class=\"dataframe\">\n",
       "  <thead>\n",
       "    <tr>\n",
       "      <th></th>\n",
       "      <th colspan=\"11\" halign=\"left\">World population milestones in billions[3] (Worldometers estimates)</th>\n",
       "    </tr>\n",
       "    <tr>\n",
       "      <th></th>\n",
       "      <th>Population</th>\n",
       "      <th>1</th>\n",
       "      <th>2</th>\n",
       "      <th>3</th>\n",
       "      <th>4</th>\n",
       "      <th>5</th>\n",
       "      <th>6</th>\n",
       "      <th>7</th>\n",
       "      <th>8</th>\n",
       "      <th>9</th>\n",
       "      <th>10</th>\n",
       "    </tr>\n",
       "  </thead>\n",
       "  <tbody>\n",
       "    <tr>\n",
       "      <th>0</th>\n",
       "      <td>Year</td>\n",
       "      <td>1804</td>\n",
       "      <td>1927</td>\n",
       "      <td>1960</td>\n",
       "      <td>1974</td>\n",
       "      <td>1987</td>\n",
       "      <td>1999</td>\n",
       "      <td>2011</td>\n",
       "      <td>2022</td>\n",
       "      <td>2037</td>\n",
       "      <td>2057</td>\n",
       "    </tr>\n",
       "    <tr>\n",
       "      <th>1</th>\n",
       "      <td>Years elapsed</td>\n",
       "      <td>—</td>\n",
       "      <td>123</td>\n",
       "      <td>33</td>\n",
       "      <td>14</td>\n",
       "      <td>13</td>\n",
       "      <td>12</td>\n",
       "      <td>12</td>\n",
       "      <td>11</td>\n",
       "      <td>15</td>\n",
       "      <td>20</td>\n",
       "    </tr>\n",
       "  </tbody>\n",
       "</table>\n",
       "</div>"
      ],
      "text/plain": [
       "  World population milestones in billions[3] (Worldometers estimates)        \\\n",
       "                                                           Population     1   \n",
       "0                                               Year                   1804   \n",
       "1                                      Years elapsed                      —   \n",
       "\n",
       "                                                         \n",
       "      2     3     4     5     6     7     8     9    10  \n",
       "0  1927  1960  1974  1987  1999  2011  2022  2037  2057  \n",
       "1   123    33    14    13    12    12    11    15    20  "
      ]
     },
     "execution_count": 19,
     "metadata": {},
     "output_type": "execute_result"
    }
   ],
   "source": [
    "tables[0]"
   ]
  },
  {
   "cell_type": "code",
   "execution_count": 21,
   "id": "1e4bd6dc",
   "metadata": {},
   "outputs": [
    {
     "data": {
      "text/html": [
       "<div>\n",
       "<style scoped>\n",
       "    .dataframe tbody tr th:only-of-type {\n",
       "        vertical-align: middle;\n",
       "    }\n",
       "\n",
       "    .dataframe tbody tr th {\n",
       "        vertical-align: top;\n",
       "    }\n",
       "\n",
       "    .dataframe thead th {\n",
       "        text-align: right;\n",
       "    }\n",
       "</style>\n",
       "<table border=\"1\" class=\"dataframe\">\n",
       "  <thead>\n",
       "    <tr style=\"text-align: right;\">\n",
       "      <th></th>\n",
       "      <th>#</th>\n",
       "      <th>Most populous countries</th>\n",
       "      <th>2000</th>\n",
       "      <th>2015</th>\n",
       "      <th>2030[A]</th>\n",
       "    </tr>\n",
       "  </thead>\n",
       "  <tbody>\n",
       "    <tr>\n",
       "      <th>0</th>\n",
       "      <td>1</td>\n",
       "      <td>China[B]</td>\n",
       "      <td>1270</td>\n",
       "      <td>1376</td>\n",
       "      <td>1416</td>\n",
       "    </tr>\n",
       "    <tr>\n",
       "      <th>1</th>\n",
       "      <td>2</td>\n",
       "      <td>India</td>\n",
       "      <td>1053</td>\n",
       "      <td>1311</td>\n",
       "      <td>1528</td>\n",
       "    </tr>\n",
       "    <tr>\n",
       "      <th>2</th>\n",
       "      <td>3</td>\n",
       "      <td>United States</td>\n",
       "      <td>283</td>\n",
       "      <td>322</td>\n",
       "      <td>356</td>\n",
       "    </tr>\n",
       "    <tr>\n",
       "      <th>3</th>\n",
       "      <td>4</td>\n",
       "      <td>Indonesia</td>\n",
       "      <td>212</td>\n",
       "      <td>258</td>\n",
       "      <td>295</td>\n",
       "    </tr>\n",
       "    <tr>\n",
       "      <th>4</th>\n",
       "      <td>5</td>\n",
       "      <td>Pakistan</td>\n",
       "      <td>136</td>\n",
       "      <td>208</td>\n",
       "      <td>245</td>\n",
       "    </tr>\n",
       "    <tr>\n",
       "      <th>5</th>\n",
       "      <td>6</td>\n",
       "      <td>Brazil</td>\n",
       "      <td>176</td>\n",
       "      <td>206</td>\n",
       "      <td>228</td>\n",
       "    </tr>\n",
       "    <tr>\n",
       "      <th>6</th>\n",
       "      <td>7</td>\n",
       "      <td>Nigeria</td>\n",
       "      <td>123</td>\n",
       "      <td>182</td>\n",
       "      <td>263</td>\n",
       "    </tr>\n",
       "    <tr>\n",
       "      <th>7</th>\n",
       "      <td>8</td>\n",
       "      <td>Bangladesh</td>\n",
       "      <td>131</td>\n",
       "      <td>161</td>\n",
       "      <td>186</td>\n",
       "    </tr>\n",
       "    <tr>\n",
       "      <th>8</th>\n",
       "      <td>9</td>\n",
       "      <td>Russia</td>\n",
       "      <td>146</td>\n",
       "      <td>146</td>\n",
       "      <td>149</td>\n",
       "    </tr>\n",
       "    <tr>\n",
       "      <th>9</th>\n",
       "      <td>10</td>\n",
       "      <td>Mexico</td>\n",
       "      <td>103</td>\n",
       "      <td>127</td>\n",
       "      <td>148</td>\n",
       "    </tr>\n",
       "    <tr>\n",
       "      <th>10</th>\n",
       "      <td>NaN</td>\n",
       "      <td>World total</td>\n",
       "      <td>6127</td>\n",
       "      <td>7349</td>\n",
       "      <td>8501</td>\n",
       "    </tr>\n",
       "    <tr>\n",
       "      <th>11</th>\n",
       "      <td>Notes: .mw-parser-output .reflist{font-size:90...</td>\n",
       "      <td>Notes: .mw-parser-output .reflist{font-size:90...</td>\n",
       "      <td>Notes: .mw-parser-output .reflist{font-size:90...</td>\n",
       "      <td>Notes: .mw-parser-output .reflist{font-size:90...</td>\n",
       "      <td>Notes: .mw-parser-output .reflist{font-size:90...</td>\n",
       "    </tr>\n",
       "  </tbody>\n",
       "</table>\n",
       "</div>"
      ],
      "text/plain": [
       "                                                    #  \\\n",
       "0                                                   1   \n",
       "1                                                   2   \n",
       "2                                                   3   \n",
       "3                                                   4   \n",
       "4                                                   5   \n",
       "5                                                   6   \n",
       "6                                                   7   \n",
       "7                                                   8   \n",
       "8                                                   9   \n",
       "9                                                  10   \n",
       "10                                                NaN   \n",
       "11  Notes: .mw-parser-output .reflist{font-size:90...   \n",
       "\n",
       "                              Most populous countries  \\\n",
       "0                                            China[B]   \n",
       "1                                               India   \n",
       "2                                       United States   \n",
       "3                                           Indonesia   \n",
       "4                                            Pakistan   \n",
       "5                                              Brazil   \n",
       "6                                             Nigeria   \n",
       "7                                          Bangladesh   \n",
       "8                                              Russia   \n",
       "9                                              Mexico   \n",
       "10                                        World total   \n",
       "11  Notes: .mw-parser-output .reflist{font-size:90...   \n",
       "\n",
       "                                                 2000  \\\n",
       "0                                                1270   \n",
       "1                                                1053   \n",
       "2                                                 283   \n",
       "3                                                 212   \n",
       "4                                                 136   \n",
       "5                                                 176   \n",
       "6                                                 123   \n",
       "7                                                 131   \n",
       "8                                                 146   \n",
       "9                                                 103   \n",
       "10                                               6127   \n",
       "11  Notes: .mw-parser-output .reflist{font-size:90...   \n",
       "\n",
       "                                                 2015  \\\n",
       "0                                                1376   \n",
       "1                                                1311   \n",
       "2                                                 322   \n",
       "3                                                 258   \n",
       "4                                                 208   \n",
       "5                                                 206   \n",
       "6                                                 182   \n",
       "7                                                 161   \n",
       "8                                                 146   \n",
       "9                                                 127   \n",
       "10                                               7349   \n",
       "11  Notes: .mw-parser-output .reflist{font-size:90...   \n",
       "\n",
       "                                              2030[A]  \n",
       "0                                                1416  \n",
       "1                                                1528  \n",
       "2                                                 356  \n",
       "3                                                 295  \n",
       "4                                                 245  \n",
       "5                                                 228  \n",
       "6                                                 263  \n",
       "7                                                 186  \n",
       "8                                                 149  \n",
       "9                                                 148  \n",
       "10                                               8501  \n",
       "11  Notes: .mw-parser-output .reflist{font-size:90...  "
      ]
     },
     "execution_count": 21,
     "metadata": {},
     "output_type": "execute_result"
    }
   ],
   "source": [
    "tables[2]"
   ]
  },
  {
   "cell_type": "code",
   "execution_count": 23,
   "id": "bf6ec0a8",
   "metadata": {},
   "outputs": [],
   "source": [
    "world_topten = tables[2]"
   ]
  },
  {
   "cell_type": "code",
   "execution_count": 24,
   "id": "868930a2",
   "metadata": {},
   "outputs": [],
   "source": [
    "world_topten = world_topten.drop(11,axis = 0)"
   ]
  },
  {
   "cell_type": "code",
   "execution_count": 26,
   "id": "2a9562b5",
   "metadata": {},
   "outputs": [],
   "source": [
    "world_topten = world_topten.drop('#', axis = 1)"
   ]
  },
  {
   "cell_type": "code",
   "execution_count": 28,
   "id": "ca112035",
   "metadata": {},
   "outputs": [],
   "source": [
    "world_topten.columns = ['Country','2000','2015','2030 Est']"
   ]
  },
  {
   "cell_type": "code",
   "execution_count": 29,
   "id": "d12d50e0",
   "metadata": {},
   "outputs": [
    {
     "data": {
      "text/html": [
       "<div>\n",
       "<style scoped>\n",
       "    .dataframe tbody tr th:only-of-type {\n",
       "        vertical-align: middle;\n",
       "    }\n",
       "\n",
       "    .dataframe tbody tr th {\n",
       "        vertical-align: top;\n",
       "    }\n",
       "\n",
       "    .dataframe thead th {\n",
       "        text-align: right;\n",
       "    }\n",
       "</style>\n",
       "<table border=\"1\" class=\"dataframe\">\n",
       "  <thead>\n",
       "    <tr style=\"text-align: right;\">\n",
       "      <th></th>\n",
       "      <th>Country</th>\n",
       "      <th>2000</th>\n",
       "      <th>2015</th>\n",
       "      <th>2030 Est</th>\n",
       "    </tr>\n",
       "  </thead>\n",
       "  <tbody>\n",
       "    <tr>\n",
       "      <th>0</th>\n",
       "      <td>China[B]</td>\n",
       "      <td>1270</td>\n",
       "      <td>1376</td>\n",
       "      <td>1416</td>\n",
       "    </tr>\n",
       "    <tr>\n",
       "      <th>1</th>\n",
       "      <td>India</td>\n",
       "      <td>1053</td>\n",
       "      <td>1311</td>\n",
       "      <td>1528</td>\n",
       "    </tr>\n",
       "    <tr>\n",
       "      <th>2</th>\n",
       "      <td>United States</td>\n",
       "      <td>283</td>\n",
       "      <td>322</td>\n",
       "      <td>356</td>\n",
       "    </tr>\n",
       "    <tr>\n",
       "      <th>3</th>\n",
       "      <td>Indonesia</td>\n",
       "      <td>212</td>\n",
       "      <td>258</td>\n",
       "      <td>295</td>\n",
       "    </tr>\n",
       "    <tr>\n",
       "      <th>4</th>\n",
       "      <td>Pakistan</td>\n",
       "      <td>136</td>\n",
       "      <td>208</td>\n",
       "      <td>245</td>\n",
       "    </tr>\n",
       "    <tr>\n",
       "      <th>5</th>\n",
       "      <td>Brazil</td>\n",
       "      <td>176</td>\n",
       "      <td>206</td>\n",
       "      <td>228</td>\n",
       "    </tr>\n",
       "    <tr>\n",
       "      <th>6</th>\n",
       "      <td>Nigeria</td>\n",
       "      <td>123</td>\n",
       "      <td>182</td>\n",
       "      <td>263</td>\n",
       "    </tr>\n",
       "    <tr>\n",
       "      <th>7</th>\n",
       "      <td>Bangladesh</td>\n",
       "      <td>131</td>\n",
       "      <td>161</td>\n",
       "      <td>186</td>\n",
       "    </tr>\n",
       "    <tr>\n",
       "      <th>8</th>\n",
       "      <td>Russia</td>\n",
       "      <td>146</td>\n",
       "      <td>146</td>\n",
       "      <td>149</td>\n",
       "    </tr>\n",
       "    <tr>\n",
       "      <th>9</th>\n",
       "      <td>Mexico</td>\n",
       "      <td>103</td>\n",
       "      <td>127</td>\n",
       "      <td>148</td>\n",
       "    </tr>\n",
       "    <tr>\n",
       "      <th>10</th>\n",
       "      <td>World total</td>\n",
       "      <td>6127</td>\n",
       "      <td>7349</td>\n",
       "      <td>8501</td>\n",
       "    </tr>\n",
       "  </tbody>\n",
       "</table>\n",
       "</div>"
      ],
      "text/plain": [
       "          Country  2000  2015 2030 Est\n",
       "0        China[B]  1270  1376     1416\n",
       "1           India  1053  1311     1528\n",
       "2   United States   283   322      356\n",
       "3       Indonesia   212   258      295\n",
       "4        Pakistan   136   208      245\n",
       "5          Brazil   176   206      228\n",
       "6         Nigeria   123   182      263\n",
       "7      Bangladesh   131   161      186\n",
       "8          Russia   146   146      149\n",
       "9          Mexico   103   127      148\n",
       "10    World total  6127  7349     8501"
      ]
     },
     "execution_count": 29,
     "metadata": {},
     "output_type": "execute_result"
    }
   ],
   "source": [
    "world_topten"
   ]
  },
  {
   "cell_type": "code",
   "execution_count": 32,
   "id": "7cf3ad97",
   "metadata": {},
   "outputs": [],
   "source": [
    "world_topten.to_csv('sample_table.csv', index = False)"
   ]
  },
  {
   "cell_type": "markdown",
   "id": "620102c2",
   "metadata": {},
   "source": [
    "## Excel Files\n",
    "* Pandas can read and write to excel files\n",
    "* Pandas can only read and write in raw data, it is not able to read in macros, visualizations, or formulas created inside spreadsheets"
   ]
  },
  {
   "cell_type": "code",
   "execution_count": 40,
   "id": "1f559b3d",
   "metadata": {},
   "outputs": [],
   "source": [
    "df = pd.read_excel(\"C:\\\\Users\\\\Eddie\\\\Downloads\\\\UNZIP_FOR_NOTEBOOKS_FINAL\\\\03-Pandas\\\\my_excel_file.xlsx\", sheet_name = 'First_Sheet')"
   ]
  },
  {
   "cell_type": "code",
   "execution_count": 41,
   "id": "caf80cbc",
   "metadata": {},
   "outputs": [
    {
     "data": {
      "text/html": [
       "<div>\n",
       "<style scoped>\n",
       "    .dataframe tbody tr th:only-of-type {\n",
       "        vertical-align: middle;\n",
       "    }\n",
       "\n",
       "    .dataframe tbody tr th {\n",
       "        vertical-align: top;\n",
       "    }\n",
       "\n",
       "    .dataframe thead th {\n",
       "        text-align: right;\n",
       "    }\n",
       "</style>\n",
       "<table border=\"1\" class=\"dataframe\">\n",
       "  <thead>\n",
       "    <tr style=\"text-align: right;\">\n",
       "      <th></th>\n",
       "      <th>a</th>\n",
       "      <th>b</th>\n",
       "      <th>c</th>\n",
       "      <th>d</th>\n",
       "    </tr>\n",
       "  </thead>\n",
       "  <tbody>\n",
       "    <tr>\n",
       "      <th>0</th>\n",
       "      <td>0</td>\n",
       "      <td>1</td>\n",
       "      <td>2</td>\n",
       "      <td>3</td>\n",
       "    </tr>\n",
       "    <tr>\n",
       "      <th>1</th>\n",
       "      <td>4</td>\n",
       "      <td>5</td>\n",
       "      <td>6</td>\n",
       "      <td>7</td>\n",
       "    </tr>\n",
       "    <tr>\n",
       "      <th>2</th>\n",
       "      <td>8</td>\n",
       "      <td>9</td>\n",
       "      <td>10</td>\n",
       "      <td>11</td>\n",
       "    </tr>\n",
       "    <tr>\n",
       "      <th>3</th>\n",
       "      <td>12</td>\n",
       "      <td>13</td>\n",
       "      <td>14</td>\n",
       "      <td>15</td>\n",
       "    </tr>\n",
       "  </tbody>\n",
       "</table>\n",
       "</div>"
      ],
      "text/plain": [
       "    a   b   c   d\n",
       "0   0   1   2   3\n",
       "1   4   5   6   7\n",
       "2   8   9  10  11\n",
       "3  12  13  14  15"
      ]
     },
     "execution_count": 41,
     "metadata": {},
     "output_type": "execute_result"
    }
   ],
   "source": [
    "df"
   ]
  },
  {
   "cell_type": "code",
   "execution_count": 42,
   "id": "2f02d4ce",
   "metadata": {},
   "outputs": [],
   "source": [
    "wb = pd.ExcelFile(\"C:\\\\Users\\\\Eddie\\\\Downloads\\\\UNZIP_FOR_NOTEBOOKS_FINAL\\\\03-Pandas\\\\my_excel_file.xlsx\")"
   ]
  },
  {
   "cell_type": "code",
   "execution_count": 44,
   "id": "928e5352",
   "metadata": {},
   "outputs": [
    {
     "data": {
      "text/plain": [
       "['First_Sheet']"
      ]
     },
     "execution_count": 44,
     "metadata": {},
     "output_type": "execute_result"
    }
   ],
   "source": [
    "wb.sheet_names"
   ]
  },
  {
   "cell_type": "code",
   "execution_count": 46,
   "id": "9b2ef1b8",
   "metadata": {},
   "outputs": [],
   "source": [
    "excel_sheet_dict = pd.read_excel(\"C:\\\\Users\\\\Eddie\\\\Downloads\\\\UNZIP_FOR_NOTEBOOKS_FINAL\\\\03-Pandas\\\\my_excel_file.xlsx\", sheet_name = None)"
   ]
  },
  {
   "cell_type": "code",
   "execution_count": 47,
   "id": "cc88a058",
   "metadata": {},
   "outputs": [
    {
     "data": {
      "text/plain": [
       "dict"
      ]
     },
     "execution_count": 47,
     "metadata": {},
     "output_type": "execute_result"
    }
   ],
   "source": [
    "type(excel_sheet_dict)"
   ]
  },
  {
   "cell_type": "code",
   "execution_count": 48,
   "id": "464c574c",
   "metadata": {},
   "outputs": [
    {
     "data": {
      "text/plain": [
       "dict_keys(['First_Sheet'])"
      ]
     },
     "execution_count": 48,
     "metadata": {},
     "output_type": "execute_result"
    }
   ],
   "source": [
    "excel_sheet_dict.keys()"
   ]
  },
  {
   "cell_type": "code",
   "execution_count": 49,
   "id": "aceb0590",
   "metadata": {},
   "outputs": [
    {
     "data": {
      "text/html": [
       "<div>\n",
       "<style scoped>\n",
       "    .dataframe tbody tr th:only-of-type {\n",
       "        vertical-align: middle;\n",
       "    }\n",
       "\n",
       "    .dataframe tbody tr th {\n",
       "        vertical-align: top;\n",
       "    }\n",
       "\n",
       "    .dataframe thead th {\n",
       "        text-align: right;\n",
       "    }\n",
       "</style>\n",
       "<table border=\"1\" class=\"dataframe\">\n",
       "  <thead>\n",
       "    <tr style=\"text-align: right;\">\n",
       "      <th></th>\n",
       "      <th>a</th>\n",
       "      <th>b</th>\n",
       "      <th>c</th>\n",
       "      <th>d</th>\n",
       "    </tr>\n",
       "  </thead>\n",
       "  <tbody>\n",
       "    <tr>\n",
       "      <th>0</th>\n",
       "      <td>0</td>\n",
       "      <td>1</td>\n",
       "      <td>2</td>\n",
       "      <td>3</td>\n",
       "    </tr>\n",
       "    <tr>\n",
       "      <th>1</th>\n",
       "      <td>4</td>\n",
       "      <td>5</td>\n",
       "      <td>6</td>\n",
       "      <td>7</td>\n",
       "    </tr>\n",
       "    <tr>\n",
       "      <th>2</th>\n",
       "      <td>8</td>\n",
       "      <td>9</td>\n",
       "      <td>10</td>\n",
       "      <td>11</td>\n",
       "    </tr>\n",
       "    <tr>\n",
       "      <th>3</th>\n",
       "      <td>12</td>\n",
       "      <td>13</td>\n",
       "      <td>14</td>\n",
       "      <td>15</td>\n",
       "    </tr>\n",
       "  </tbody>\n",
       "</table>\n",
       "</div>"
      ],
      "text/plain": [
       "    a   b   c   d\n",
       "0   0   1   2   3\n",
       "1   4   5   6   7\n",
       "2   8   9  10  11\n",
       "3  12  13  14  15"
      ]
     },
     "execution_count": 49,
     "metadata": {},
     "output_type": "execute_result"
    }
   ],
   "source": [
    "excel_sheet_dict['First_Sheet']"
   ]
  },
  {
   "cell_type": "code",
   "execution_count": 50,
   "id": "1dc6fcbf",
   "metadata": {},
   "outputs": [],
   "source": [
    "our_df = excel_sheet_dict['First_Sheet']"
   ]
  },
  {
   "cell_type": "code",
   "execution_count": 51,
   "id": "79466f6e",
   "metadata": {},
   "outputs": [],
   "source": [
    "our_df.to_excel('example.xlsx', sheet_name = 'First_Sheet', index = False)"
   ]
  },
  {
   "cell_type": "markdown",
   "id": "037c882b",
   "metadata": {},
   "source": [
    "## SQL Databases"
   ]
  },
  {
   "cell_type": "code",
   "execution_count": 1,
   "id": "97283b8b",
   "metadata": {},
   "outputs": [],
   "source": [
    "from sqlalchemy import create_engine"
   ]
  },
  {
   "cell_type": "code",
   "execution_count": 2,
   "id": "dc652922",
   "metadata": {},
   "outputs": [],
   "source": [
    "temp_db = create_engine('sqlite:///:memory:')"
   ]
  },
  {
   "cell_type": "code",
   "execution_count": 6,
   "id": "1d524e43",
   "metadata": {},
   "outputs": [],
   "source": [
    "df = pd.DataFrame(data = np.random.randint(low = 0, high = 100, size =(4,4)), columns = ['a','b','c','d'])"
   ]
  },
  {
   "cell_type": "code",
   "execution_count": 7,
   "id": "e8274734",
   "metadata": {},
   "outputs": [
    {
     "data": {
      "text/plain": [
       "4"
      ]
     },
     "execution_count": 7,
     "metadata": {},
     "output_type": "execute_result"
    }
   ],
   "source": [
    "df.to_sql(name = 'new_table', con = temp_db)"
   ]
  },
  {
   "cell_type": "code",
   "execution_count": 10,
   "id": "9fe62597",
   "metadata": {},
   "outputs": [],
   "source": [
    "new_df = pd.read_sql(sql = 'new_table', con = temp_db)"
   ]
  },
  {
   "cell_type": "code",
   "execution_count": 11,
   "id": "719decf2",
   "metadata": {},
   "outputs": [
    {
     "data": {
      "text/html": [
       "<div>\n",
       "<style scoped>\n",
       "    .dataframe tbody tr th:only-of-type {\n",
       "        vertical-align: middle;\n",
       "    }\n",
       "\n",
       "    .dataframe tbody tr th {\n",
       "        vertical-align: top;\n",
       "    }\n",
       "\n",
       "    .dataframe thead th {\n",
       "        text-align: right;\n",
       "    }\n",
       "</style>\n",
       "<table border=\"1\" class=\"dataframe\">\n",
       "  <thead>\n",
       "    <tr style=\"text-align: right;\">\n",
       "      <th></th>\n",
       "      <th>index</th>\n",
       "      <th>a</th>\n",
       "      <th>b</th>\n",
       "      <th>c</th>\n",
       "      <th>d</th>\n",
       "    </tr>\n",
       "  </thead>\n",
       "  <tbody>\n",
       "    <tr>\n",
       "      <th>0</th>\n",
       "      <td>0</td>\n",
       "      <td>67</td>\n",
       "      <td>35</td>\n",
       "      <td>24</td>\n",
       "      <td>60</td>\n",
       "    </tr>\n",
       "    <tr>\n",
       "      <th>1</th>\n",
       "      <td>1</td>\n",
       "      <td>72</td>\n",
       "      <td>88</td>\n",
       "      <td>93</td>\n",
       "      <td>70</td>\n",
       "    </tr>\n",
       "    <tr>\n",
       "      <th>2</th>\n",
       "      <td>2</td>\n",
       "      <td>58</td>\n",
       "      <td>58</td>\n",
       "      <td>22</td>\n",
       "      <td>6</td>\n",
       "    </tr>\n",
       "    <tr>\n",
       "      <th>3</th>\n",
       "      <td>3</td>\n",
       "      <td>18</td>\n",
       "      <td>57</td>\n",
       "      <td>2</td>\n",
       "      <td>79</td>\n",
       "    </tr>\n",
       "  </tbody>\n",
       "</table>\n",
       "</div>"
      ],
      "text/plain": [
       "   index   a   b   c   d\n",
       "0      0  67  35  24  60\n",
       "1      1  72  88  93  70\n",
       "2      2  58  58  22   6\n",
       "3      3  18  57   2  79"
      ]
     },
     "execution_count": 11,
     "metadata": {},
     "output_type": "execute_result"
    }
   ],
   "source": [
    "new_df"
   ]
  },
  {
   "cell_type": "code",
   "execution_count": 14,
   "id": "a4d91969",
   "metadata": {},
   "outputs": [],
   "source": [
    "results = pd.read_sql_query(sql = 'SELECT a,c FROM new_table', con = temp_db)"
   ]
  },
  {
   "cell_type": "code",
   "execution_count": 15,
   "id": "e6cd813d",
   "metadata": {},
   "outputs": [
    {
     "data": {
      "text/html": [
       "<div>\n",
       "<style scoped>\n",
       "    .dataframe tbody tr th:only-of-type {\n",
       "        vertical-align: middle;\n",
       "    }\n",
       "\n",
       "    .dataframe tbody tr th {\n",
       "        vertical-align: top;\n",
       "    }\n",
       "\n",
       "    .dataframe thead th {\n",
       "        text-align: right;\n",
       "    }\n",
       "</style>\n",
       "<table border=\"1\" class=\"dataframe\">\n",
       "  <thead>\n",
       "    <tr style=\"text-align: right;\">\n",
       "      <th></th>\n",
       "      <th>a</th>\n",
       "      <th>c</th>\n",
       "    </tr>\n",
       "  </thead>\n",
       "  <tbody>\n",
       "    <tr>\n",
       "      <th>0</th>\n",
       "      <td>67</td>\n",
       "      <td>24</td>\n",
       "    </tr>\n",
       "    <tr>\n",
       "      <th>1</th>\n",
       "      <td>72</td>\n",
       "      <td>93</td>\n",
       "    </tr>\n",
       "    <tr>\n",
       "      <th>2</th>\n",
       "      <td>58</td>\n",
       "      <td>22</td>\n",
       "    </tr>\n",
       "    <tr>\n",
       "      <th>3</th>\n",
       "      <td>18</td>\n",
       "      <td>2</td>\n",
       "    </tr>\n",
       "  </tbody>\n",
       "</table>\n",
       "</div>"
      ],
      "text/plain": [
       "    a   c\n",
       "0  67  24\n",
       "1  72  93\n",
       "2  58  22\n",
       "3  18   2"
      ]
     },
     "execution_count": 15,
     "metadata": {},
     "output_type": "execute_result"
    }
   ],
   "source": [
    "results"
   ]
  },
  {
   "cell_type": "code",
   "execution_count": null,
   "id": "0efe9108",
   "metadata": {},
   "outputs": [],
   "source": []
  }
 ],
 "metadata": {
  "kernelspec": {
   "display_name": "Python 3 (ipykernel)",
   "language": "python",
   "name": "python3"
  },
  "language_info": {
   "codemirror_mode": {
    "name": "ipython",
    "version": 3
   },
   "file_extension": ".py",
   "mimetype": "text/x-python",
   "name": "python",
   "nbconvert_exporter": "python",
   "pygments_lexer": "ipython3",
   "version": "3.9.13"
  }
 },
 "nbformat": 4,
 "nbformat_minor": 5
}
